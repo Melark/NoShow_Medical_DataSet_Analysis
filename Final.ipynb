{
 "cells": [
  {
   "cell_type": "markdown",
   "source": [
    "# No-Show Appointments Investigation\n",
    "The idea behind this project is to investigate a dataset about no-show appointments from information received of about 100k medical appointments. The dataset can be found here: https://www.google.com/url?q=https://d17h27t6h515a5.cloudfront.net/topher/2017/October/59dd2e9a_noshowappointments-kagglev2-may-2016/noshowappointments-kagglev2-may-2016.csv&sa=D&ust=1532469042118000\n",
    "\n",
    "This investigation attempts to find some more insights into this data and try and find a relationship between certain of the collected data with the aim to unravel which of those features will more likely lead to patients either showing up/not show up at all for their appointments.\n",
    "\n",
    "This investigation is done by Mark Arrow for the Udacity Data Analyst Nanodegree."
   ],
   "metadata": {
    "collapsed": false,
    "pycharm": {
     "name": "#%% md\n"
    }
   }
  },
  {
   "cell_type": "markdown",
   "source": [
    "## Imports for the investigation"
   ],
   "metadata": {
    "collapsed": false,
    "pycharm": {
     "name": "#%% md\n"
    }
   }
  },
  {
   "cell_type": "code",
   "execution_count": 127,
   "outputs": [],
   "source": [
    "import numpy as np\n",
    "import pandas as pd\n",
    "import matplotlib.pyplot as plt\n",
    "import seaborn as sns\n",
    "%matplotlib inline"
   ],
   "metadata": {
    "collapsed": false,
    "pycharm": {
     "name": "#%%\n"
    }
   }
  },
  {
   "cell_type": "markdown",
   "source": [
    "## Loading the data"
   ],
   "metadata": {
    "collapsed": false,
    "pycharm": {
     "name": "#%% md\n"
    }
   }
  },
  {
   "cell_type": "code",
   "execution_count": 25,
   "outputs": [
    {
     "data": {
      "text/plain": "      PatientId  AppointmentID Gender          ScheduledDay  \\\n0  2.987250e+13        5642903      F  2016-04-29T18:38:08Z   \n1  5.589978e+14        5642503      M  2016-04-29T16:08:27Z   \n2  4.262962e+12        5642549      F  2016-04-29T16:19:04Z   \n3  8.679512e+11        5642828      F  2016-04-29T17:29:31Z   \n4  8.841186e+12        5642494      F  2016-04-29T16:07:23Z   \n\n         AppointmentDay  Age      Neighbourhood  Scholarship  Hipertension  \\\n0  2016-04-29T00:00:00Z   62    JARDIM DA PENHA            0             1   \n1  2016-04-29T00:00:00Z   56    JARDIM DA PENHA            0             0   \n2  2016-04-29T00:00:00Z   62      MATA DA PRAIA            0             0   \n3  2016-04-29T00:00:00Z    8  PONTAL DE CAMBURI            0             0   \n4  2016-04-29T00:00:00Z   56    JARDIM DA PENHA            0             1   \n\n   Diabetes  Alcoholism  Handcap  SMS_received No-show  \n0         0           0        0             0      No  \n1         0           0        0             0      No  \n2         0           0        0             0      No  \n3         0           0        0             0      No  \n4         1           0        0             0      No  ",
      "text/html": "<div>\n<style scoped>\n    .dataframe tbody tr th:only-of-type {\n        vertical-align: middle;\n    }\n\n    .dataframe tbody tr th {\n        vertical-align: top;\n    }\n\n    .dataframe thead th {\n        text-align: right;\n    }\n</style>\n<table border=\"1\" class=\"dataframe\">\n  <thead>\n    <tr style=\"text-align: right;\">\n      <th></th>\n      <th>PatientId</th>\n      <th>AppointmentID</th>\n      <th>Gender</th>\n      <th>ScheduledDay</th>\n      <th>AppointmentDay</th>\n      <th>Age</th>\n      <th>Neighbourhood</th>\n      <th>Scholarship</th>\n      <th>Hipertension</th>\n      <th>Diabetes</th>\n      <th>Alcoholism</th>\n      <th>Handcap</th>\n      <th>SMS_received</th>\n      <th>No-show</th>\n    </tr>\n  </thead>\n  <tbody>\n    <tr>\n      <th>0</th>\n      <td>2.987250e+13</td>\n      <td>5642903</td>\n      <td>F</td>\n      <td>2016-04-29T18:38:08Z</td>\n      <td>2016-04-29T00:00:00Z</td>\n      <td>62</td>\n      <td>JARDIM DA PENHA</td>\n      <td>0</td>\n      <td>1</td>\n      <td>0</td>\n      <td>0</td>\n      <td>0</td>\n      <td>0</td>\n      <td>No</td>\n    </tr>\n    <tr>\n      <th>1</th>\n      <td>5.589978e+14</td>\n      <td>5642503</td>\n      <td>M</td>\n      <td>2016-04-29T16:08:27Z</td>\n      <td>2016-04-29T00:00:00Z</td>\n      <td>56</td>\n      <td>JARDIM DA PENHA</td>\n      <td>0</td>\n      <td>0</td>\n      <td>0</td>\n      <td>0</td>\n      <td>0</td>\n      <td>0</td>\n      <td>No</td>\n    </tr>\n    <tr>\n      <th>2</th>\n      <td>4.262962e+12</td>\n      <td>5642549</td>\n      <td>F</td>\n      <td>2016-04-29T16:19:04Z</td>\n      <td>2016-04-29T00:00:00Z</td>\n      <td>62</td>\n      <td>MATA DA PRAIA</td>\n      <td>0</td>\n      <td>0</td>\n      <td>0</td>\n      <td>0</td>\n      <td>0</td>\n      <td>0</td>\n      <td>No</td>\n    </tr>\n    <tr>\n      <th>3</th>\n      <td>8.679512e+11</td>\n      <td>5642828</td>\n      <td>F</td>\n      <td>2016-04-29T17:29:31Z</td>\n      <td>2016-04-29T00:00:00Z</td>\n      <td>8</td>\n      <td>PONTAL DE CAMBURI</td>\n      <td>0</td>\n      <td>0</td>\n      <td>0</td>\n      <td>0</td>\n      <td>0</td>\n      <td>0</td>\n      <td>No</td>\n    </tr>\n    <tr>\n      <th>4</th>\n      <td>8.841186e+12</td>\n      <td>5642494</td>\n      <td>F</td>\n      <td>2016-04-29T16:07:23Z</td>\n      <td>2016-04-29T00:00:00Z</td>\n      <td>56</td>\n      <td>JARDIM DA PENHA</td>\n      <td>0</td>\n      <td>1</td>\n      <td>1</td>\n      <td>0</td>\n      <td>0</td>\n      <td>0</td>\n      <td>No</td>\n    </tr>\n  </tbody>\n</table>\n</div>"
     },
     "execution_count": 25,
     "metadata": {},
     "output_type": "execute_result"
    }
   ],
   "source": [
    "df = pd.read_csv('noshowappointments-kagglev2-may-2016.csv')\n",
    "df.head()"
   ],
   "metadata": {
    "collapsed": false,
    "pycharm": {
     "name": "#%%\n"
    }
   }
  },
  {
   "cell_type": "markdown",
   "source": [
    "## Data Wrangling\n",
    "The goals of this section is to understand the data at hand. This involves determining and assessing the data structure, identifying potential problems with the data, and eventually cleaning up the data by\n",
    "- Finding duplicates and determining their significance\n",
    "- Finding and removing NaN values\n",
    "- Converting columns to the appropriate types\n",
    "\n",
    "This is to ensure the highest quality of data for the investigation."
   ],
   "metadata": {
    "collapsed": false,
    "pycharm": {
     "name": "#%% md\n"
    }
   }
  },
  {
   "cell_type": "code",
   "execution_count": 26,
   "outputs": [
    {
     "data": {
      "text/plain": "(110527, 14)"
     },
     "execution_count": 26,
     "metadata": {},
     "output_type": "execute_result"
    }
   ],
   "source": [
    "# What is the shape of the data?\n",
    "df.shape"
   ],
   "metadata": {
    "collapsed": false,
    "pycharm": {
     "name": "#%%\n"
    }
   }
  },
  {
   "cell_type": "code",
   "execution_count": 27,
   "outputs": [
    {
     "data": {
      "text/plain": "PatientId         False\nAppointmentID     False\nGender            False\nScheduledDay      False\nAppointmentDay    False\nAge               False\nNeighbourhood     False\nScholarship       False\nHipertension      False\nDiabetes          False\nAlcoholism        False\nHandcap           False\nSMS_received      False\nNo-show           False\ndtype: bool"
     },
     "execution_count": 27,
     "metadata": {},
     "output_type": "execute_result"
    }
   ],
   "source": [
    "# So we know there is 110527 different entries in this dataset.\n",
    "# We have 14 different features per entry.\n",
    "\n",
    "# Now let us determine whether we have any missing values for all of those columns\n",
    "df.isnull().any()"
   ],
   "metadata": {
    "collapsed": false,
    "pycharm": {
     "name": "#%%\n"
    }
   }
  },
  {
   "cell_type": "code",
   "execution_count": 28,
   "outputs": [
    {
     "data": {
      "text/plain": "'We have 0 duplicate entries'"
     },
     "execution_count": 28,
     "metadata": {},
     "output_type": "execute_result"
    }
   ],
   "source": [
    "# All our data seems filled in. Now let us see if there are any duplicates\n",
    "\n",
    "amount_of_duplicates = df.duplicated().sum()\n",
    "\"We have {} duplicate entries\".format(amount_of_duplicates)"
   ],
   "metadata": {
    "collapsed": false,
    "pycharm": {
     "name": "#%%\n"
    }
   }
  },
  {
   "cell_type": "markdown",
   "source": [
    "### Convert Columns to the Appropriate Types"
   ],
   "metadata": {
    "collapsed": false,
    "pycharm": {
     "name": "#%% md\n"
    }
   }
  },
  {
   "cell_type": "code",
   "execution_count": 29,
   "outputs": [
    {
     "name": "stdout",
     "output_type": "stream",
     "text": [
      "<class 'pandas.core.frame.DataFrame'>\n",
      "RangeIndex: 110527 entries, 0 to 110526\n",
      "Data columns (total 14 columns):\n",
      " #   Column          Non-Null Count   Dtype  \n",
      "---  ------          --------------   -----  \n",
      " 0   PatientId       110527 non-null  float64\n",
      " 1   AppointmentID   110527 non-null  int64  \n",
      " 2   Gender          110527 non-null  object \n",
      " 3   ScheduledDay    110527 non-null  object \n",
      " 4   AppointmentDay  110527 non-null  object \n",
      " 5   Age             110527 non-null  int64  \n",
      " 6   Neighbourhood   110527 non-null  object \n",
      " 7   Scholarship     110527 non-null  int64  \n",
      " 8   Hipertension    110527 non-null  int64  \n",
      " 9   Diabetes        110527 non-null  int64  \n",
      " 10  Alcoholism      110527 non-null  int64  \n",
      " 11  Handcap         110527 non-null  int64  \n",
      " 12  SMS_received    110527 non-null  int64  \n",
      " 13  No-show         110527 non-null  object \n",
      "dtypes: float64(1), int64(8), object(5)\n",
      "memory usage: 11.8+ MB\n"
     ]
    }
   ],
   "source": [
    "# Let us first determine what types we have as for our features\n",
    "df.info()"
   ],
   "metadata": {
    "collapsed": false,
    "pycharm": {
     "name": "#%%\n"
    }
   }
  },
  {
   "cell_type": "code",
   "execution_count": 30,
   "outputs": [
    {
     "data": {
      "text/plain": "     patient_id  appointment_id gender         scheduled_day  \\\n0  2.987250e+13         5642903      F  2016-04-29T18:38:08Z   \n1  5.589978e+14         5642503      M  2016-04-29T16:08:27Z   \n2  4.262962e+12         5642549      F  2016-04-29T16:19:04Z   \n3  8.679512e+11         5642828      F  2016-04-29T17:29:31Z   \n4  8.841186e+12         5642494      F  2016-04-29T16:07:23Z   \n\n        appointment_day  age      neighbourhood  scholarship  hypertension  \\\n0  2016-04-29T00:00:00Z   62    JARDIM DA PENHA            0             1   \n1  2016-04-29T00:00:00Z   56    JARDIM DA PENHA            0             0   \n2  2016-04-29T00:00:00Z   62      MATA DA PRAIA            0             0   \n3  2016-04-29T00:00:00Z    8  PONTAL DE CAMBURI            0             0   \n4  2016-04-29T00:00:00Z   56    JARDIM DA PENHA            0             1   \n\n   diabetes  alcoholism  handicap  sms_received no_show  \n0         0           0         0             0      No  \n1         0           0         0             0      No  \n2         0           0         0             0      No  \n3         0           0         0             0      No  \n4         1           0         0             0      No  ",
      "text/html": "<div>\n<style scoped>\n    .dataframe tbody tr th:only-of-type {\n        vertical-align: middle;\n    }\n\n    .dataframe tbody tr th {\n        vertical-align: top;\n    }\n\n    .dataframe thead th {\n        text-align: right;\n    }\n</style>\n<table border=\"1\" class=\"dataframe\">\n  <thead>\n    <tr style=\"text-align: right;\">\n      <th></th>\n      <th>patient_id</th>\n      <th>appointment_id</th>\n      <th>gender</th>\n      <th>scheduled_day</th>\n      <th>appointment_day</th>\n      <th>age</th>\n      <th>neighbourhood</th>\n      <th>scholarship</th>\n      <th>hypertension</th>\n      <th>diabetes</th>\n      <th>alcoholism</th>\n      <th>handicap</th>\n      <th>sms_received</th>\n      <th>no_show</th>\n    </tr>\n  </thead>\n  <tbody>\n    <tr>\n      <th>0</th>\n      <td>2.987250e+13</td>\n      <td>5642903</td>\n      <td>F</td>\n      <td>2016-04-29T18:38:08Z</td>\n      <td>2016-04-29T00:00:00Z</td>\n      <td>62</td>\n      <td>JARDIM DA PENHA</td>\n      <td>0</td>\n      <td>1</td>\n      <td>0</td>\n      <td>0</td>\n      <td>0</td>\n      <td>0</td>\n      <td>No</td>\n    </tr>\n    <tr>\n      <th>1</th>\n      <td>5.589978e+14</td>\n      <td>5642503</td>\n      <td>M</td>\n      <td>2016-04-29T16:08:27Z</td>\n      <td>2016-04-29T00:00:00Z</td>\n      <td>56</td>\n      <td>JARDIM DA PENHA</td>\n      <td>0</td>\n      <td>0</td>\n      <td>0</td>\n      <td>0</td>\n      <td>0</td>\n      <td>0</td>\n      <td>No</td>\n    </tr>\n    <tr>\n      <th>2</th>\n      <td>4.262962e+12</td>\n      <td>5642549</td>\n      <td>F</td>\n      <td>2016-04-29T16:19:04Z</td>\n      <td>2016-04-29T00:00:00Z</td>\n      <td>62</td>\n      <td>MATA DA PRAIA</td>\n      <td>0</td>\n      <td>0</td>\n      <td>0</td>\n      <td>0</td>\n      <td>0</td>\n      <td>0</td>\n      <td>No</td>\n    </tr>\n    <tr>\n      <th>3</th>\n      <td>8.679512e+11</td>\n      <td>5642828</td>\n      <td>F</td>\n      <td>2016-04-29T17:29:31Z</td>\n      <td>2016-04-29T00:00:00Z</td>\n      <td>8</td>\n      <td>PONTAL DE CAMBURI</td>\n      <td>0</td>\n      <td>0</td>\n      <td>0</td>\n      <td>0</td>\n      <td>0</td>\n      <td>0</td>\n      <td>No</td>\n    </tr>\n    <tr>\n      <th>4</th>\n      <td>8.841186e+12</td>\n      <td>5642494</td>\n      <td>F</td>\n      <td>2016-04-29T16:07:23Z</td>\n      <td>2016-04-29T00:00:00Z</td>\n      <td>56</td>\n      <td>JARDIM DA PENHA</td>\n      <td>0</td>\n      <td>1</td>\n      <td>1</td>\n      <td>0</td>\n      <td>0</td>\n      <td>0</td>\n      <td>No</td>\n    </tr>\n  </tbody>\n</table>\n</div>"
     },
     "execution_count": 30,
     "metadata": {},
     "output_type": "execute_result"
    }
   ],
   "source": [
    "# Some interesting results:\n",
    "\n",
    "# When we get to the column names, they are inconsistently named with SMS_received having an underscore and No-show having a dash. The rest of\n",
    "# the columns  all start with a capital letter.\n",
    "\n",
    "# PatientId is a float while this should be a readable number\n",
    "# ScheduledDay and AppointmentDay are strings while they should be DateTime\n",
    "# No-show is of type string while it should rather be an int\n",
    "\n",
    "# first step is to rename the columns:\n",
    "\n",
    "df.rename(columns={\"PatientId\": \"patient_id\", \"AppointmentID\": \"appointment_id\", \"ScheduledDay\": \"scheduled_day\", \"AppointmentDay\": \"appointment_day\",\"No-show\":\"no_show\"},inplace=True)\n",
    "df.rename(columns= {'Hipertension': 'hypertension', 'Handcap': 'handicap'}, inplace= True)\n",
    "df.rename(columns=lambda col: col.strip().lower(), inplace=True)\n",
    "df.head()"
   ],
   "metadata": {
    "collapsed": false,
    "pycharm": {
     "name": "#%%\n"
    }
   }
  },
  {
   "cell_type": "code",
   "execution_count": 50,
   "outputs": [
    {
     "data": {
      "text/plain": "        patient_id  appointment_id gender             scheduled_day  \\\n0   29872499824296         5642903      F 2016-04-29 00:00:00+00:00   \n1  558997776694438         5642503      M 2016-04-29 00:00:00+00:00   \n2    4262962299951         5642549      F 2016-04-29 00:00:00+00:00   \n3     867951213174         5642828      F 2016-04-29 00:00:00+00:00   \n4    8841186448183         5642494      F 2016-04-29 00:00:00+00:00   \n\n            appointment_day  age      neighbourhood  scholarship  \\\n0 2016-04-29 00:00:00+00:00   62    JARDIM DA PENHA            0   \n1 2016-04-29 00:00:00+00:00   56    JARDIM DA PENHA            0   \n2 2016-04-29 00:00:00+00:00   62      MATA DA PRAIA            0   \n3 2016-04-29 00:00:00+00:00    8  PONTAL DE CAMBURI            0   \n4 2016-04-29 00:00:00+00:00   56    JARDIM DA PENHA            0   \n\n   hypertension  diabetes  alcoholism  handicap  sms_received  no_show  \n0             1         0           0         0             0        0  \n1             0         0           0         0             0        0  \n2             0         0           0         0             0        0  \n3             0         0           0         0             0        0  \n4             1         1           0         0             0        0  ",
      "text/html": "<div>\n<style scoped>\n    .dataframe tbody tr th:only-of-type {\n        vertical-align: middle;\n    }\n\n    .dataframe tbody tr th {\n        vertical-align: top;\n    }\n\n    .dataframe thead th {\n        text-align: right;\n    }\n</style>\n<table border=\"1\" class=\"dataframe\">\n  <thead>\n    <tr style=\"text-align: right;\">\n      <th></th>\n      <th>patient_id</th>\n      <th>appointment_id</th>\n      <th>gender</th>\n      <th>scheduled_day</th>\n      <th>appointment_day</th>\n      <th>age</th>\n      <th>neighbourhood</th>\n      <th>scholarship</th>\n      <th>hypertension</th>\n      <th>diabetes</th>\n      <th>alcoholism</th>\n      <th>handicap</th>\n      <th>sms_received</th>\n      <th>no_show</th>\n    </tr>\n  </thead>\n  <tbody>\n    <tr>\n      <th>0</th>\n      <td>29872499824296</td>\n      <td>5642903</td>\n      <td>F</td>\n      <td>2016-04-29 00:00:00+00:00</td>\n      <td>2016-04-29 00:00:00+00:00</td>\n      <td>62</td>\n      <td>JARDIM DA PENHA</td>\n      <td>0</td>\n      <td>1</td>\n      <td>0</td>\n      <td>0</td>\n      <td>0</td>\n      <td>0</td>\n      <td>0</td>\n    </tr>\n    <tr>\n      <th>1</th>\n      <td>558997776694438</td>\n      <td>5642503</td>\n      <td>M</td>\n      <td>2016-04-29 00:00:00+00:00</td>\n      <td>2016-04-29 00:00:00+00:00</td>\n      <td>56</td>\n      <td>JARDIM DA PENHA</td>\n      <td>0</td>\n      <td>0</td>\n      <td>0</td>\n      <td>0</td>\n      <td>0</td>\n      <td>0</td>\n      <td>0</td>\n    </tr>\n    <tr>\n      <th>2</th>\n      <td>4262962299951</td>\n      <td>5642549</td>\n      <td>F</td>\n      <td>2016-04-29 00:00:00+00:00</td>\n      <td>2016-04-29 00:00:00+00:00</td>\n      <td>62</td>\n      <td>MATA DA PRAIA</td>\n      <td>0</td>\n      <td>0</td>\n      <td>0</td>\n      <td>0</td>\n      <td>0</td>\n      <td>0</td>\n      <td>0</td>\n    </tr>\n    <tr>\n      <th>3</th>\n      <td>867951213174</td>\n      <td>5642828</td>\n      <td>F</td>\n      <td>2016-04-29 00:00:00+00:00</td>\n      <td>2016-04-29 00:00:00+00:00</td>\n      <td>8</td>\n      <td>PONTAL DE CAMBURI</td>\n      <td>0</td>\n      <td>0</td>\n      <td>0</td>\n      <td>0</td>\n      <td>0</td>\n      <td>0</td>\n      <td>0</td>\n    </tr>\n    <tr>\n      <th>4</th>\n      <td>8841186448183</td>\n      <td>5642494</td>\n      <td>F</td>\n      <td>2016-04-29 00:00:00+00:00</td>\n      <td>2016-04-29 00:00:00+00:00</td>\n      <td>56</td>\n      <td>JARDIM DA PENHA</td>\n      <td>0</td>\n      <td>1</td>\n      <td>1</td>\n      <td>0</td>\n      <td>0</td>\n      <td>0</td>\n      <td>0</td>\n    </tr>\n  </tbody>\n</table>\n</div>"
     },
     "execution_count": 50,
     "metadata": {},
     "output_type": "execute_result"
    }
   ],
   "source": [
    "# Next step is to change the column data types\n",
    "df.patient_id = df.patient_id.astype('int')\n",
    "df.appointment_day = pd.to_datetime(df.appointment_day)\n",
    "df.scheduled_day = pd.to_datetime(df.scheduled_day)\n",
    "# remove times of scheduled day since appointment day doesn't have any\n",
    "df.scheduled_day = df.scheduled_day.apply(lambda x: x.normalize())\n",
    "\n",
    "# Confirm changes\n",
    "df.head()"
   ],
   "metadata": {
    "collapsed": false,
    "pycharm": {
     "name": "#%%\n"
    }
   }
  },
  {
   "cell_type": "code",
   "execution_count": 32,
   "outputs": [
    {
     "data": {
      "text/plain": "array(['No', 'Yes'], dtype=object)"
     },
     "execution_count": 32,
     "metadata": {},
     "output_type": "execute_result"
    }
   ],
   "source": [
    "# Next up is the no_show column. This needs to change to a 1 / 0 and then the column type needs to change to int as well\n",
    "# we need to confirm the amount of unique values in the no_show column\n",
    "df.no_show.unique()\n"
   ],
   "metadata": {
    "collapsed": false,
    "pycharm": {
     "name": "#%%\n"
    }
   }
  },
  {
   "cell_type": "code",
   "execution_count": 33,
   "outputs": [
    {
     "name": "stdout",
     "output_type": "stream",
     "text": [
      "<class 'pandas.core.series.Series'>\n",
      "RangeIndex: 110527 entries, 0 to 110526\n",
      "Series name: no_show\n",
      "Non-Null Count   Dtype\n",
      "--------------   -----\n",
      "110527 non-null  int64\n",
      "dtypes: int64(1)\n",
      "memory usage: 863.6 KB\n"
     ]
    }
   ],
   "source": [
    "#now that we know it only has a yes and a no, we map it to the appropriate types\n",
    "df.no_show.replace({\"No\": \"0\", \"Yes\": \"1\"}, inplace=True)\n",
    "df.no_show = df.no_show.astype(\"int\")\n",
    "df.no_show.info()"
   ],
   "metadata": {
    "collapsed": false,
    "pycharm": {
     "name": "#%%\n"
    }
   }
  },
  {
   "cell_type": "code",
   "execution_count": 34,
   "outputs": [
    {
     "name": "stdout",
     "output_type": "stream",
     "text": [
      "<class 'pandas.core.frame.DataFrame'>\n",
      "RangeIndex: 110527 entries, 0 to 110526\n",
      "Data columns (total 14 columns):\n",
      " #   Column           Non-Null Count   Dtype \n",
      "---  ------           --------------   ----- \n",
      " 0   patient_id       110527 non-null  int64 \n",
      " 1   appointment_id   110527 non-null  int64 \n",
      " 2   gender           110527 non-null  object\n",
      " 3   scheduled_day    110527 non-null  object\n",
      " 4   appointment_day  110527 non-null  object\n",
      " 5   age              110527 non-null  int64 \n",
      " 6   neighbourhood    110527 non-null  object\n",
      " 7   scholarship      110527 non-null  int64 \n",
      " 8   hypertension     110527 non-null  int64 \n",
      " 9   diabetes         110527 non-null  int64 \n",
      " 10  alcoholism       110527 non-null  int64 \n",
      " 11  handicap         110527 non-null  int64 \n",
      " 12  sms_received     110527 non-null  int64 \n",
      " 13  no_show          110527 non-null  int64 \n",
      "dtypes: int64(10), object(4)\n",
      "memory usage: 11.8+ MB\n"
     ]
    }
   ],
   "source": [
    "df.info()"
   ],
   "metadata": {
    "collapsed": false,
    "pycharm": {
     "name": "#%%\n"
    }
   }
  },
  {
   "cell_type": "code",
   "execution_count": 35,
   "outputs": [
    {
     "data": {
      "text/plain": "array([ 62,  56,   8,  76,  23,  39,  21,  19,  30,  29,  22,  28,  54,\n        15,  50,  40,  46,   4,  13,  65,  45,  51,  32,  12,  61,  38,\n        79,  18,  63,  64,  85,  59,  55,  71,  49,  78,  31,  58,  27,\n         6,   2,  11,   7,   0,   3,   1,  69,  68,  60,  67,  36,  10,\n        35,  20,  26,  34,  33,  16,  42,   5,  47,  17,  41,  44,  37,\n        24,  66,  77,  81,  70,  53,  75,  73,  52,  74,  43,  89,  57,\n        14,   9,  48,  83,  72,  25,  80,  87,  88,  84,  82,  90,  94,\n        86,  91,  98,  92,  96,  93,  95,  97, 102, 115, 100,  99,  -1])"
     },
     "execution_count": 35,
     "metadata": {},
     "output_type": "execute_result"
    }
   ],
   "source": [
    "#Last column to look at is age\n",
    "df.age.unique()"
   ],
   "metadata": {
    "collapsed": false,
    "pycharm": {
     "name": "#%%\n"
    }
   }
  },
  {
   "cell_type": "code",
   "execution_count": 36,
   "outputs": [],
   "source": [
    "# We need to remove anything below 0 and above 100 to keep our data consistent\n",
    "df = df.query(\"age >= 0 and age <= 100\")"
   ],
   "metadata": {
    "collapsed": false,
    "pycharm": {
     "name": "#%%\n"
    }
   }
  },
  {
   "cell_type": "code",
   "execution_count": 61,
   "outputs": [],
   "source": [
    "# now that we have clean data, we can start exploring"
   ],
   "metadata": {
    "collapsed": false,
    "pycharm": {
     "name": "#%%\n"
    }
   }
  },
  {
   "cell_type": "markdown",
   "source": [
    "## Data exploration and visualisation\n",
    "We will now attempt to dive deeper into the data and attempt some insights into what will more likely\n",
    "cause people not to show up for appointments"
   ],
   "metadata": {
    "collapsed": false,
    "pycharm": {
     "name": "#%% md\n"
    }
   }
  },
  {
   "cell_type": "code",
   "execution_count": 94,
   "outputs": [],
   "source": [
    "def get_males(dataframe):\n",
    "    return dataframe.query(\"gender == 'M'\")\n",
    "\n",
    "def get_females(dataframe):\n",
    "    return dataframe.query(\"gender == 'F'\")\n",
    "\n",
    "def get_uncompleted_appointments(dataframe):\n",
    "    return dataframe.query('no_show == 1')\n",
    "\n",
    "def get_completed_appointments(dataframe):\n",
    "    return dataframe.query('no_show == 0')\n",
    "\n",
    "amount_of_appointments = df.drop_duplicates('appointment_id').value_counts()\n",
    "\n",
    "appointments_with_scholarship = df.query(\"scholarship == 1\")\n",
    "appointments_without_scholarship = df.query(\"scholarship == 0\")\n",
    "\n",
    "patients_with_scholarship = appointments_with_scholarship.drop_duplicates('patient_id')\n",
    "patients_without_scholarship = appointments_without_scholarship.drop_duplicates('patient_id')\n",
    "\n",
    "females_with_scholarship = get_females(patients_with_scholarship)\n",
    "males_with_scholarship = get_males(patients_with_scholarship)\n",
    "\n",
    "females_without_scholarship = get_females(patients_without_scholarship)\n",
    "males_without_scholarship = get_males(patients_without_scholarship)"
   ],
   "metadata": {
    "collapsed": false,
    "pycharm": {
     "name": "#%%\n"
    }
   }
  },
  {
   "cell_type": "markdown",
   "source": [
    "### Is there a relationship between the people with scholarships and the people without scholarships, who show up for appointments? If so, can we identify whether gender has a further impact on this?"
   ],
   "metadata": {
    "collapsed": false,
    "pycharm": {
     "name": "#%% md\n"
    }
   }
  },
  {
   "cell_type": "code",
   "execution_count": 125,
   "outputs": [
    {
     "data": {
      "text/plain": "<Figure size 1440x720 with 1 Axes>",
      "image/png": "[encoded data removed]"
     },
     "metadata": {
      "needs_background": "light"
     },
     "output_type": "display_data"
    }
   ],
   "source": [
    "all_appointments = len(df.appointment_id.value_counts())\n",
    "\n",
    "uncompleted_wo_scholarship = len(get_uncompleted_appointments(patients_without_scholarship)) / all_appointments * 100\n",
    "uncompleted_w_scholarship = len(get_uncompleted_appointments(patients_with_scholarship)) / all_appointments * 100\n",
    "\n",
    "completed_wo_scholarship = len(get_completed_appointments(patients_without_scholarship)) / all_appointments * 100\n",
    "completed_w_scholarship = len(get_completed_appointments(patients_with_scholarship)) / all_appointments * 100\n",
    "\n",
    "columns = [\"Uncompleted appointments without scholarship\",\"Uncompleted appointments with scholarship\", \"Completed appointments without scholarship\",\"Completed appointments with scholarship\"]\n",
    "values = [uncompleted_wo_scholarship,uncompleted_w_scholarship,completed_wo_scholarship, completed_w_scholarship]\n",
    "\n",
    "plt.suptitle = \"Relationship of people with a scholarship compared to the amount of no-shows\"\n",
    "plt.ylabel = \"Percentage of all appointments\"\n",
    "plt.xlabel = \"Number of people\"\n",
    "plt.figure(figsize=(20,10))\n",
    "plt.bar(columns,values);"
   ],
   "metadata": {
    "collapsed": false,
    "pycharm": {
     "name": "#%%\n"
    }
   }
  },
  {
   "cell_type": "code",
   "execution_count": 135,
   "outputs": [
    {
     "data": {
      "text/plain": "<Figure size 1008x720 with 1 Axes>",
      "image/png": "[encoded data removed]"
     },
     "metadata": {
      "needs_background": "light"
     },
     "output_type": "display_data"
    }
   ],
   "source": [
    "females_uws = len(get_uncompleted_appointments(females_with_scholarship)) / all_appointments * 100\n",
    "females_uwos = len(get_uncompleted_appointments(females_without_scholarship)) / all_appointments * 100\n",
    "females_cws = len(get_completed_appointments(females_with_scholarship)) / all_appointments * 100\n",
    "females_cwos = len(get_completed_appointments(females_without_scholarship)) / all_appointments * 100\n",
    "\n",
    "males_uws = len(get_uncompleted_appointments(males_with_scholarship)) / all_appointments * 100\n",
    "males_uwos = len(get_uncompleted_appointments(males_without_scholarship)) / all_appointments * 100\n",
    "males_cws = len(get_completed_appointments(males_with_scholarship)) / all_appointments * 100\n",
    "males_cwos = len(get_completed_appointments(males_without_scholarship)) / all_appointments * 100\n",
    "\n",
    "labels = [\"Uncompleted appointments without scholarship\", \"Uncompleted appointments with scholarship\", \"Completed appointments without scholarship\", \"Completed appointments with scholarship\"]\n",
    "x = np.arange(len(labels))  # the label locations\n",
    "width = 0.35  # the width of the bars\n",
    "\n",
    "males = [males_uws,males_uws,males_cwos,males_cws]\n",
    "females = [females_uws,females_uws,females_cwos,females_cws]\n",
    "\n",
    "fig, ax = plt.subplots()\n",
    "fig.set_figheight(10)\n",
    "fig.set_figwidth(14)\n",
    "\n",
    "males_bar = ax.bar(x - width/2, males, width, label='Males')\n",
    "females_bar = ax.bar(x + width/2, females, width, label='Females')\n",
    "\n",
    "# Add some text for labels, title and custom x-axis tick labels, etc.\n",
    "ax.set_ylabel('Appointments (%)')\n",
    "ax.set_title('Relationship between completed and uncompleted appointments based on gender and scholarship')\n",
    "ax.set_xticks(x, labels)\n",
    "ax.legend()\n",
    "\n",
    "ax.bar_label(males_bar, padding=3)\n",
    "ax.bar_label(females_bar, padding=3)\n",
    "\n",
    "fig.tight_layout()\n",
    "\n",
    "plt.show();"
   ],
   "metadata": {
    "collapsed": false,
    "pycharm": {
     "name": "#%%\n"
    }
   }
  },
  {
   "cell_type": "code",
   "execution_count": null,
   "outputs": [],
   "source": [],
   "metadata": {
    "collapsed": false,
    "pycharm": {
     "name": "#%%\n"
    }
   }
  }
 ],
 "metadata": {
  "kernelspec": {
   "display_name": "Python 3",
   "language": "python",
   "name": "python3"
  },
  "language_info": {
   "codemirror_mode": {
    "name": "ipython",
    "version": 2
   },
   "file_extension": ".py",
   "mimetype": "text/x-python",
   "name": "python",
   "nbconvert_exporter": "python",
   "pygments_lexer": "ipython2",
   "version": "2.7.6"
  }
 },
 "nbformat": 4,
 "nbformat_minor": 0
}